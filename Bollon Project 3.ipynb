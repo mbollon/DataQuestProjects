{
 "cells": [
  {
   "cell_type": "code",
   "execution_count": 6,
   "metadata": {
    "collapsed": true
   },
   "outputs": [],
   "source": [
    "import pandas as pd\n",
    "import matplotlib.pyplot as plt\n",
    "import seaborn as sns\n",
    "%matplotlib inline"
   ]
  },
  {
   "cell_type": "code",
   "execution_count": 7,
   "metadata": {
    "collapsed": true
   },
   "outputs": [],
   "source": [
    "pixar_movies = pd.read_csv('PixarMovies.csv')"
   ]
  },
  {
   "cell_type": "code",
   "execution_count": 8,
   "metadata": {
    "collapsed": false
   },
   "outputs": [
    {
     "data": {
      "text/plain": [
       "16"
      ]
     },
     "execution_count": 8,
     "metadata": {},
     "output_type": "execute_result"
    }
   ],
   "source": [
    "pixar_movies.shape[1]"
   ]
  },
  {
   "cell_type": "code",
   "execution_count": 9,
   "metadata": {
    "collapsed": false
   },
   "outputs": [
    {
     "data": {
      "text/html": [
       "<div style=\"max-height:1000px;max-width:1500px;overflow:auto;\">\n",
       "<table border=\"1\" class=\"dataframe\">\n",
       "  <thead>\n",
       "    <tr style=\"text-align: right;\">\n",
       "      <th></th>\n",
       "      <th>Year Released</th>\n",
       "      <th>Movie</th>\n",
       "      <th>Length</th>\n",
       "      <th>RT Score</th>\n",
       "      <th>IMDB Score</th>\n",
       "      <th>Metacritic Score</th>\n",
       "      <th>Opening Weekend</th>\n",
       "      <th>Worldwide Gross</th>\n",
       "      <th>Domestic Gross</th>\n",
       "      <th>Adjusted Domestic Gross</th>\n",
       "      <th>International Gross</th>\n",
       "      <th>Domestic %</th>\n",
       "      <th>International %</th>\n",
       "      <th>Production Budget</th>\n",
       "      <th>Oscars Nominated</th>\n",
       "      <th>Oscars Won</th>\n",
       "    </tr>\n",
       "  </thead>\n",
       "  <tbody>\n",
       "    <tr>\n",
       "      <th>0</th>\n",
       "      <td> 1995</td>\n",
       "      <td>      Toy Story</td>\n",
       "      <td>  81</td>\n",
       "      <td> 100</td>\n",
       "      <td> 8.3</td>\n",
       "      <td> 92</td>\n",
       "      <td> 29.14</td>\n",
       "      <td> 362.0</td>\n",
       "      <td> 191.8</td>\n",
       "      <td> 356.21</td>\n",
       "      <td> 170.2</td>\n",
       "      <td> 52.98%</td>\n",
       "      <td> 47.02%</td>\n",
       "      <td>  30</td>\n",
       "      <td> 3</td>\n",
       "      <td> 0</td>\n",
       "    </tr>\n",
       "    <tr>\n",
       "      <th>1</th>\n",
       "      <td> 1998</td>\n",
       "      <td>   A Bug's Life</td>\n",
       "      <td>  96</td>\n",
       "      <td>  92</td>\n",
       "      <td> 7.2</td>\n",
       "      <td> 77</td>\n",
       "      <td> 33.26</td>\n",
       "      <td> 363.4</td>\n",
       "      <td> 162.8</td>\n",
       "      <td> 277.18</td>\n",
       "      <td> 200.6</td>\n",
       "      <td> 44.80%</td>\n",
       "      <td> 55.20%</td>\n",
       "      <td>  45</td>\n",
       "      <td> 1</td>\n",
       "      <td> 0</td>\n",
       "    </tr>\n",
       "    <tr>\n",
       "      <th>2</th>\n",
       "      <td> 1999</td>\n",
       "      <td>    Toy Story 2</td>\n",
       "      <td>  92</td>\n",
       "      <td> 100</td>\n",
       "      <td> 7.9</td>\n",
       "      <td> 88</td>\n",
       "      <td> 57.39</td>\n",
       "      <td> 485.0</td>\n",
       "      <td> 245.9</td>\n",
       "      <td> 388.43</td>\n",
       "      <td> 239.2</td>\n",
       "      <td> 50.70%</td>\n",
       "      <td> 49.32%</td>\n",
       "      <td>  90</td>\n",
       "      <td> 1</td>\n",
       "      <td> 0</td>\n",
       "    </tr>\n",
       "    <tr>\n",
       "      <th>3</th>\n",
       "      <td> 2001</td>\n",
       "      <td> Monsters, Inc.</td>\n",
       "      <td>  90</td>\n",
       "      <td>  96</td>\n",
       "      <td> 8.1</td>\n",
       "      <td> 78</td>\n",
       "      <td> 62.58</td>\n",
       "      <td> 528.8</td>\n",
       "      <td> 255.9</td>\n",
       "      <td> 366.12</td>\n",
       "      <td> 272.9</td>\n",
       "      <td> 48.39%</td>\n",
       "      <td> 51.61%</td>\n",
       "      <td> 115</td>\n",
       "      <td> 3</td>\n",
       "      <td> 1</td>\n",
       "    </tr>\n",
       "    <tr>\n",
       "      <th>4</th>\n",
       "      <td> 2003</td>\n",
       "      <td>   Finding Nemo</td>\n",
       "      <td> 104</td>\n",
       "      <td>  99</td>\n",
       "      <td> 8.2</td>\n",
       "      <td> 90</td>\n",
       "      <td> 70.25</td>\n",
       "      <td> 895.6</td>\n",
       "      <td> 339.7</td>\n",
       "      <td> 457.46</td>\n",
       "      <td> 555.9</td>\n",
       "      <td> 37.93%</td>\n",
       "      <td> 62.07%</td>\n",
       "      <td>  94</td>\n",
       "      <td> 4</td>\n",
       "      <td> 1</td>\n",
       "    </tr>\n",
       "  </tbody>\n",
       "</table>\n",
       "</div>"
      ],
      "text/plain": [
       "   Year Released           Movie  Length  RT Score  IMDB Score  \\\n",
       "0           1995       Toy Story      81       100         8.3   \n",
       "1           1998    A Bug's Life      96        92         7.2   \n",
       "2           1999     Toy Story 2      92       100         7.9   \n",
       "3           2001  Monsters, Inc.      90        96         8.1   \n",
       "4           2003    Finding Nemo     104        99         8.2   \n",
       "\n",
       "   Metacritic Score  Opening Weekend  Worldwide Gross  Domestic Gross  \\\n",
       "0                92            29.14            362.0           191.8   \n",
       "1                77            33.26            363.4           162.8   \n",
       "2                88            57.39            485.0           245.9   \n",
       "3                78            62.58            528.8           255.9   \n",
       "4                90            70.25            895.6           339.7   \n",
       "\n",
       "   Adjusted Domestic Gross  International Gross Domestic % International %  \\\n",
       "0                   356.21                170.2     52.98%          47.02%   \n",
       "1                   277.18                200.6     44.80%          55.20%   \n",
       "2                   388.43                239.2     50.70%          49.32%   \n",
       "3                   366.12                272.9     48.39%          51.61%   \n",
       "4                   457.46                555.9     37.93%          62.07%   \n",
       "\n",
       "   Production Budget  Oscars Nominated  Oscars Won  \n",
       "0                 30                 3           0  \n",
       "1                 45                 1           0  \n",
       "2                 90                 1           0  \n",
       "3                115                 3           1  \n",
       "4                 94                 4           1  "
      ]
     },
     "execution_count": 9,
     "metadata": {},
     "output_type": "execute_result"
    }
   ],
   "source": [
    "pixar_movies.head()"
   ]
  },
  {
   "cell_type": "code",
   "execution_count": 10,
   "metadata": {
    "collapsed": false
   },
   "outputs": [
    {
     "data": {
      "text/plain": [
       "Year Released                int64\n",
       "Movie                       object\n",
       "Length                       int64\n",
       "RT Score                     int64\n",
       "IMDB Score                 float64\n",
       "Metacritic Score             int64\n",
       "Opening Weekend            float64\n",
       "Worldwide Gross            float64\n",
       "Domestic Gross             float64\n",
       "Adjusted Domestic Gross    float64\n",
       "International Gross        float64\n",
       "Domestic %                  object\n",
       "International %             object\n",
       "Production Budget            int64\n",
       "Oscars Nominated           float64\n",
       "Oscars Won                 float64\n",
       "dtype: object"
      ]
     },
     "execution_count": 10,
     "metadata": {},
     "output_type": "execute_result"
    }
   ],
   "source": [
    "pixar_movies.dtypes"
   ]
  },
  {
   "cell_type": "code",
   "execution_count": 11,
   "metadata": {
    "collapsed": false
   },
   "outputs": [
    {
     "data": {
      "text/html": [
       "<div style=\"max-height:1000px;max-width:1500px;overflow:auto;\">\n",
       "<table border=\"1\" class=\"dataframe\">\n",
       "  <thead>\n",
       "    <tr style=\"text-align: right;\">\n",
       "      <th></th>\n",
       "      <th>Year Released</th>\n",
       "      <th>Length</th>\n",
       "      <th>RT Score</th>\n",
       "      <th>IMDB Score</th>\n",
       "      <th>Metacritic Score</th>\n",
       "      <th>Opening Weekend</th>\n",
       "      <th>Worldwide Gross</th>\n",
       "      <th>Domestic Gross</th>\n",
       "      <th>Adjusted Domestic Gross</th>\n",
       "      <th>International Gross</th>\n",
       "      <th>Production Budget</th>\n",
       "      <th>Oscars Nominated</th>\n",
       "      <th>Oscars Won</th>\n",
       "    </tr>\n",
       "  </thead>\n",
       "  <tbody>\n",
       "    <tr>\n",
       "      <th>count</th>\n",
       "      <td>   15.000000</td>\n",
       "      <td>  15.000000</td>\n",
       "      <td>  15.000000</td>\n",
       "      <td> 15.000000</td>\n",
       "      <td> 15.000000</td>\n",
       "      <td>  15.000000</td>\n",
       "      <td>   15.000000</td>\n",
       "      <td>  15.000000</td>\n",
       "      <td>  15.000000</td>\n",
       "      <td>  15.000000</td>\n",
       "      <td>  15.000000</td>\n",
       "      <td> 14.000000</td>\n",
       "      <td> 14.000000</td>\n",
       "    </tr>\n",
       "    <tr>\n",
       "      <th>mean</th>\n",
       "      <td> 2006.066667</td>\n",
       "      <td> 101.533333</td>\n",
       "      <td>  89.333333</td>\n",
       "      <td>  7.846667</td>\n",
       "      <td> 82.800000</td>\n",
       "      <td>  67.990667</td>\n",
       "      <td>  612.486667</td>\n",
       "      <td> 258.506667</td>\n",
       "      <td> 318.448000</td>\n",
       "      <td> 353.986667</td>\n",
       "      <td> 133.400000</td>\n",
       "      <td>  2.857143</td>\n",
       "      <td>  0.785714</td>\n",
       "    </tr>\n",
       "    <tr>\n",
       "      <th>std</th>\n",
       "      <td>    5.933761</td>\n",
       "      <td>   9.927355</td>\n",
       "      <td>  16.451950</td>\n",
       "      <td>  0.655599</td>\n",
       "      <td> 12.119642</td>\n",
       "      <td>  23.270468</td>\n",
       "      <td>  190.193934</td>\n",
       "      <td>  66.518284</td>\n",
       "      <td>  73.321064</td>\n",
       "      <td> 135.061615</td>\n",
       "      <td>  59.696614</td>\n",
       "      <td>  2.032700</td>\n",
       "      <td>  0.801784</td>\n",
       "    </tr>\n",
       "    <tr>\n",
       "      <th>min</th>\n",
       "      <td> 1995.000000</td>\n",
       "      <td>  81.000000</td>\n",
       "      <td>  39.000000</td>\n",
       "      <td>  6.300000</td>\n",
       "      <td> 57.000000</td>\n",
       "      <td>  29.140000</td>\n",
       "      <td>  362.000000</td>\n",
       "      <td> 162.800000</td>\n",
       "      <td> 194.430000</td>\n",
       "      <td> 170.200000</td>\n",
       "      <td>  30.000000</td>\n",
       "      <td>  0.000000</td>\n",
       "      <td>  0.000000</td>\n",
       "    </tr>\n",
       "    <tr>\n",
       "      <th>25%</th>\n",
       "      <td> 2002.000000</td>\n",
       "      <td>  96.000000</td>\n",
       "      <td>  85.000000</td>\n",
       "      <td>  7.300000</td>\n",
       "      <td> 75.000000</td>\n",
       "      <td>  58.755000</td>\n",
       "      <td>  503.150000</td>\n",
       "      <td> 215.100000</td>\n",
       "      <td> 261.350000</td>\n",
       "      <td> 256.050000</td>\n",
       "      <td>  91.000000</td>\n",
       "      <td>  1.000000</td>\n",
       "      <td>  0.000000</td>\n",
       "    </tr>\n",
       "    <tr>\n",
       "      <th>50%</th>\n",
       "      <td> 2007.000000</td>\n",
       "      <td> 102.000000</td>\n",
       "      <td>  96.000000</td>\n",
       "      <td>  8.000000</td>\n",
       "      <td> 88.000000</td>\n",
       "      <td>  66.300000</td>\n",
       "      <td>  559.900000</td>\n",
       "      <td> 245.900000</td>\n",
       "      <td> 318.900000</td>\n",
       "      <td> 336.600000</td>\n",
       "      <td> 150.000000</td>\n",
       "      <td>  3.000000</td>\n",
       "      <td>  1.000000</td>\n",
       "    </tr>\n",
       "    <tr>\n",
       "      <th>75%</th>\n",
       "      <td> 2010.500000</td>\n",
       "      <td> 109.000000</td>\n",
       "      <td>  98.500000</td>\n",
       "      <td>  8.300000</td>\n",
       "      <td> 92.000000</td>\n",
       "      <td>  76.450000</td>\n",
       "      <td>  704.200000</td>\n",
       "      <td> 280.750000</td>\n",
       "      <td> 361.165000</td>\n",
       "      <td> 427.800000</td>\n",
       "      <td> 182.500000</td>\n",
       "      <td>  4.750000</td>\n",
       "      <td>  1.000000</td>\n",
       "    </tr>\n",
       "    <tr>\n",
       "      <th>max</th>\n",
       "      <td> 2015.000000</td>\n",
       "      <td> 116.000000</td>\n",
       "      <td> 100.000000</td>\n",
       "      <td>  8.800000</td>\n",
       "      <td> 96.000000</td>\n",
       "      <td> 110.310000</td>\n",
       "      <td> 1063.200000</td>\n",
       "      <td> 415.000000</td>\n",
       "      <td> 457.460000</td>\n",
       "      <td> 648.200000</td>\n",
       "      <td> 200.000000</td>\n",
       "      <td>  6.000000</td>\n",
       "      <td>  2.000000</td>\n",
       "    </tr>\n",
       "  </tbody>\n",
       "</table>\n",
       "</div>"
      ],
      "text/plain": [
       "       Year Released      Length    RT Score  IMDB Score  Metacritic Score  \\\n",
       "count      15.000000   15.000000   15.000000   15.000000         15.000000   \n",
       "mean     2006.066667  101.533333   89.333333    7.846667         82.800000   \n",
       "std         5.933761    9.927355   16.451950    0.655599         12.119642   \n",
       "min      1995.000000   81.000000   39.000000    6.300000         57.000000   \n",
       "25%      2002.000000   96.000000   85.000000    7.300000         75.000000   \n",
       "50%      2007.000000  102.000000   96.000000    8.000000         88.000000   \n",
       "75%      2010.500000  109.000000   98.500000    8.300000         92.000000   \n",
       "max      2015.000000  116.000000  100.000000    8.800000         96.000000   \n",
       "\n",
       "       Opening Weekend  Worldwide Gross  Domestic Gross  \\\n",
       "count        15.000000        15.000000       15.000000   \n",
       "mean         67.990667       612.486667      258.506667   \n",
       "std          23.270468       190.193934       66.518284   \n",
       "min          29.140000       362.000000      162.800000   \n",
       "25%          58.755000       503.150000      215.100000   \n",
       "50%          66.300000       559.900000      245.900000   \n",
       "75%          76.450000       704.200000      280.750000   \n",
       "max         110.310000      1063.200000      415.000000   \n",
       "\n",
       "       Adjusted Domestic Gross  International Gross  Production Budget  \\\n",
       "count                15.000000            15.000000          15.000000   \n",
       "mean                318.448000           353.986667         133.400000   \n",
       "std                  73.321064           135.061615          59.696614   \n",
       "min                 194.430000           170.200000          30.000000   \n",
       "25%                 261.350000           256.050000          91.000000   \n",
       "50%                 318.900000           336.600000         150.000000   \n",
       "75%                 361.165000           427.800000         182.500000   \n",
       "max                 457.460000           648.200000         200.000000   \n",
       "\n",
       "       Oscars Nominated  Oscars Won  \n",
       "count         14.000000   14.000000  \n",
       "mean           2.857143    0.785714  \n",
       "std            2.032700    0.801784  \n",
       "min            0.000000    0.000000  \n",
       "25%            1.000000    0.000000  \n",
       "50%            3.000000    1.000000  \n",
       "75%            4.750000    1.000000  \n",
       "max            6.000000    2.000000  "
      ]
     },
     "execution_count": 11,
     "metadata": {},
     "output_type": "execute_result"
    }
   ],
   "source": [
    "pixar_movies.describe()"
   ]
  },
  {
   "cell_type": "code",
   "execution_count": 12,
   "metadata": {
    "collapsed": false
   },
   "outputs": [
    {
     "data": {
      "text/html": [
       "<div style=\"max-height:1000px;max-width:1500px;overflow:auto;\">\n",
       "<table border=\"1\" class=\"dataframe\">\n",
       "  <thead>\n",
       "    <tr style=\"text-align: right;\">\n",
       "      <th></th>\n",
       "      <th>Year Released</th>\n",
       "      <th>Movie</th>\n",
       "      <th>Length</th>\n",
       "      <th>RT Score</th>\n",
       "      <th>IMDB Score</th>\n",
       "      <th>Metacritic Score</th>\n",
       "      <th>Opening Weekend</th>\n",
       "      <th>Worldwide Gross</th>\n",
       "      <th>Domestic Gross</th>\n",
       "      <th>Adjusted Domestic Gross</th>\n",
       "      <th>International Gross</th>\n",
       "      <th>Domestic %</th>\n",
       "      <th>International %</th>\n",
       "      <th>Production Budget</th>\n",
       "      <th>Oscars Nominated</th>\n",
       "      <th>Oscars Won</th>\n",
       "    </tr>\n",
       "  </thead>\n",
       "  <tbody>\n",
       "    <tr>\n",
       "      <th>0</th>\n",
       "      <td> 1995</td>\n",
       "      <td>      Toy Story</td>\n",
       "      <td>  81</td>\n",
       "      <td> 100</td>\n",
       "      <td> 8.3</td>\n",
       "      <td> 92</td>\n",
       "      <td> 29.14</td>\n",
       "      <td> 362.0</td>\n",
       "      <td> 191.8</td>\n",
       "      <td> 356.21</td>\n",
       "      <td> 170.2</td>\n",
       "      <td> 52.98%</td>\n",
       "      <td> 47.02%</td>\n",
       "      <td>  30</td>\n",
       "      <td> 3</td>\n",
       "      <td> 0</td>\n",
       "    </tr>\n",
       "    <tr>\n",
       "      <th>1</th>\n",
       "      <td> 1998</td>\n",
       "      <td>   A Bug's Life</td>\n",
       "      <td>  96</td>\n",
       "      <td>  92</td>\n",
       "      <td> 7.2</td>\n",
       "      <td> 77</td>\n",
       "      <td> 33.26</td>\n",
       "      <td> 363.4</td>\n",
       "      <td> 162.8</td>\n",
       "      <td> 277.18</td>\n",
       "      <td> 200.6</td>\n",
       "      <td> 44.80%</td>\n",
       "      <td> 55.20%</td>\n",
       "      <td>  45</td>\n",
       "      <td> 1</td>\n",
       "      <td> 0</td>\n",
       "    </tr>\n",
       "    <tr>\n",
       "      <th>2</th>\n",
       "      <td> 1999</td>\n",
       "      <td>    Toy Story 2</td>\n",
       "      <td>  92</td>\n",
       "      <td> 100</td>\n",
       "      <td> 7.9</td>\n",
       "      <td> 88</td>\n",
       "      <td> 57.39</td>\n",
       "      <td> 485.0</td>\n",
       "      <td> 245.9</td>\n",
       "      <td> 388.43</td>\n",
       "      <td> 239.2</td>\n",
       "      <td> 50.70%</td>\n",
       "      <td> 49.32%</td>\n",
       "      <td>  90</td>\n",
       "      <td> 1</td>\n",
       "      <td> 0</td>\n",
       "    </tr>\n",
       "    <tr>\n",
       "      <th>3</th>\n",
       "      <td> 2001</td>\n",
       "      <td> Monsters, Inc.</td>\n",
       "      <td>  90</td>\n",
       "      <td>  96</td>\n",
       "      <td> 8.1</td>\n",
       "      <td> 78</td>\n",
       "      <td> 62.58</td>\n",
       "      <td> 528.8</td>\n",
       "      <td> 255.9</td>\n",
       "      <td> 366.12</td>\n",
       "      <td> 272.9</td>\n",
       "      <td> 48.39%</td>\n",
       "      <td> 51.61%</td>\n",
       "      <td> 115</td>\n",
       "      <td> 3</td>\n",
       "      <td> 1</td>\n",
       "    </tr>\n",
       "    <tr>\n",
       "      <th>4</th>\n",
       "      <td> 2003</td>\n",
       "      <td>   Finding Nemo</td>\n",
       "      <td> 104</td>\n",
       "      <td>  99</td>\n",
       "      <td> 8.2</td>\n",
       "      <td> 90</td>\n",
       "      <td> 70.25</td>\n",
       "      <td> 895.6</td>\n",
       "      <td> 339.7</td>\n",
       "      <td> 457.46</td>\n",
       "      <td> 555.9</td>\n",
       "      <td> 37.93%</td>\n",
       "      <td> 62.07%</td>\n",
       "      <td>  94</td>\n",
       "      <td> 4</td>\n",
       "      <td> 1</td>\n",
       "    </tr>\n",
       "  </tbody>\n",
       "</table>\n",
       "</div>"
      ],
      "text/plain": [
       "   Year Released           Movie  Length  RT Score  IMDB Score  \\\n",
       "0           1995       Toy Story      81       100         8.3   \n",
       "1           1998    A Bug's Life      96        92         7.2   \n",
       "2           1999     Toy Story 2      92       100         7.9   \n",
       "3           2001  Monsters, Inc.      90        96         8.1   \n",
       "4           2003    Finding Nemo     104        99         8.2   \n",
       "\n",
       "   Metacritic Score  Opening Weekend  Worldwide Gross  Domestic Gross  \\\n",
       "0                92            29.14            362.0           191.8   \n",
       "1                77            33.26            363.4           162.8   \n",
       "2                88            57.39            485.0           245.9   \n",
       "3                78            62.58            528.8           255.9   \n",
       "4                90            70.25            895.6           339.7   \n",
       "\n",
       "   Adjusted Domestic Gross  International Gross Domestic % International %  \\\n",
       "0                   356.21                170.2     52.98%          47.02%   \n",
       "1                   277.18                200.6     44.80%          55.20%   \n",
       "2                   388.43                239.2     50.70%          49.32%   \n",
       "3                   366.12                272.9     48.39%          51.61%   \n",
       "4                   457.46                555.9     37.93%          62.07%   \n",
       "\n",
       "   Production Budget  Oscars Nominated  Oscars Won  \n",
       "0                 30                 3           0  \n",
       "1                 45                 1           0  \n",
       "2                 90                 1           0  \n",
       "3                115                 3           1  \n",
       "4                 94                 4           1  "
      ]
     },
     "execution_count": 12,
     "metadata": {},
     "output_type": "execute_result"
    }
   ],
   "source": [
    "pixar_movies.head()"
   ]
  },
  {
   "cell_type": "code",
   "execution_count": 13,
   "metadata": {
    "collapsed": true
   },
   "outputs": [],
   "source": [
    "pixar_movies[\"Domestic %\"] = pixar_movies[\"Domestic %\"].str.rstrip('%').astype(\"float\")"
   ]
  },
  {
   "cell_type": "code",
   "execution_count": 14,
   "metadata": {
    "collapsed": true
   },
   "outputs": [],
   "source": [
    "pixar_movies['IMDB Score'] = pixar_movies['IMDB Score'] * 10"
   ]
  },
  {
   "cell_type": "code",
   "execution_count": 16,
   "metadata": {
    "collapsed": true
   },
   "outputs": [],
   "source": [
    "filtered_pixar = pixar_movies.loc[0:13]"
   ]
  },
  {
   "cell_type": "code",
   "execution_count": 17,
   "metadata": {
    "collapsed": false
   },
   "outputs": [
    {
     "data": {
      "text/html": [
       "<div style=\"max-height:1000px;max-width:1500px;overflow:auto;\">\n",
       "<table border=\"1\" class=\"dataframe\">\n",
       "  <thead>\n",
       "    <tr style=\"text-align: right;\">\n",
       "      <th></th>\n",
       "      <th>Year Released</th>\n",
       "      <th>Movie</th>\n",
       "      <th>Length</th>\n",
       "      <th>RT Score</th>\n",
       "      <th>IMDB Score</th>\n",
       "      <th>Metacritic Score</th>\n",
       "      <th>Opening Weekend</th>\n",
       "      <th>Worldwide Gross</th>\n",
       "      <th>Domestic Gross</th>\n",
       "      <th>Adjusted Domestic Gross</th>\n",
       "      <th>International Gross</th>\n",
       "      <th>Domestic %</th>\n",
       "      <th>International %</th>\n",
       "      <th>Production Budget</th>\n",
       "      <th>Oscars Nominated</th>\n",
       "      <th>Oscars Won</th>\n",
       "    </tr>\n",
       "  </thead>\n",
       "  <tbody>\n",
       "    <tr>\n",
       "      <th>0</th>\n",
       "      <td> 1995</td>\n",
       "      <td>      Toy Story</td>\n",
       "      <td>  81</td>\n",
       "      <td> 100</td>\n",
       "      <td> 83</td>\n",
       "      <td> 92</td>\n",
       "      <td> 29.14</td>\n",
       "      <td> 362.0</td>\n",
       "      <td> 191.8</td>\n",
       "      <td> 356.21</td>\n",
       "      <td> 170.2</td>\n",
       "      <td> 52.98</td>\n",
       "      <td> 47.02%</td>\n",
       "      <td>  30</td>\n",
       "      <td> 3</td>\n",
       "      <td> 0</td>\n",
       "    </tr>\n",
       "    <tr>\n",
       "      <th>1</th>\n",
       "      <td> 1998</td>\n",
       "      <td>   A Bug's Life</td>\n",
       "      <td>  96</td>\n",
       "      <td>  92</td>\n",
       "      <td> 72</td>\n",
       "      <td> 77</td>\n",
       "      <td> 33.26</td>\n",
       "      <td> 363.4</td>\n",
       "      <td> 162.8</td>\n",
       "      <td> 277.18</td>\n",
       "      <td> 200.6</td>\n",
       "      <td> 44.80</td>\n",
       "      <td> 55.20%</td>\n",
       "      <td>  45</td>\n",
       "      <td> 1</td>\n",
       "      <td> 0</td>\n",
       "    </tr>\n",
       "    <tr>\n",
       "      <th>2</th>\n",
       "      <td> 1999</td>\n",
       "      <td>    Toy Story 2</td>\n",
       "      <td>  92</td>\n",
       "      <td> 100</td>\n",
       "      <td> 79</td>\n",
       "      <td> 88</td>\n",
       "      <td> 57.39</td>\n",
       "      <td> 485.0</td>\n",
       "      <td> 245.9</td>\n",
       "      <td> 388.43</td>\n",
       "      <td> 239.2</td>\n",
       "      <td> 50.70</td>\n",
       "      <td> 49.32%</td>\n",
       "      <td>  90</td>\n",
       "      <td> 1</td>\n",
       "      <td> 0</td>\n",
       "    </tr>\n",
       "    <tr>\n",
       "      <th>3</th>\n",
       "      <td> 2001</td>\n",
       "      <td> Monsters, Inc.</td>\n",
       "      <td>  90</td>\n",
       "      <td>  96</td>\n",
       "      <td> 81</td>\n",
       "      <td> 78</td>\n",
       "      <td> 62.58</td>\n",
       "      <td> 528.8</td>\n",
       "      <td> 255.9</td>\n",
       "      <td> 366.12</td>\n",
       "      <td> 272.9</td>\n",
       "      <td> 48.39</td>\n",
       "      <td> 51.61%</td>\n",
       "      <td> 115</td>\n",
       "      <td> 3</td>\n",
       "      <td> 1</td>\n",
       "    </tr>\n",
       "    <tr>\n",
       "      <th>4</th>\n",
       "      <td> 2003</td>\n",
       "      <td>   Finding Nemo</td>\n",
       "      <td> 104</td>\n",
       "      <td>  99</td>\n",
       "      <td> 82</td>\n",
       "      <td> 90</td>\n",
       "      <td> 70.25</td>\n",
       "      <td> 895.6</td>\n",
       "      <td> 339.7</td>\n",
       "      <td> 457.46</td>\n",
       "      <td> 555.9</td>\n",
       "      <td> 37.93</td>\n",
       "      <td> 62.07%</td>\n",
       "      <td>  94</td>\n",
       "      <td> 4</td>\n",
       "      <td> 1</td>\n",
       "    </tr>\n",
       "  </tbody>\n",
       "</table>\n",
       "</div>"
      ],
      "text/plain": [
       "   Year Released           Movie  Length  RT Score  IMDB Score  \\\n",
       "0           1995       Toy Story      81       100          83   \n",
       "1           1998    A Bug's Life      96        92          72   \n",
       "2           1999     Toy Story 2      92       100          79   \n",
       "3           2001  Monsters, Inc.      90        96          81   \n",
       "4           2003    Finding Nemo     104        99          82   \n",
       "\n",
       "   Metacritic Score  Opening Weekend  Worldwide Gross  Domestic Gross  \\\n",
       "0                92            29.14            362.0           191.8   \n",
       "1                77            33.26            363.4           162.8   \n",
       "2                88            57.39            485.0           245.9   \n",
       "3                78            62.58            528.8           255.9   \n",
       "4                90            70.25            895.6           339.7   \n",
       "\n",
       "   Adjusted Domestic Gross  International Gross  Domestic % International %  \\\n",
       "0                   356.21                170.2       52.98          47.02%   \n",
       "1                   277.18                200.6       44.80          55.20%   \n",
       "2                   388.43                239.2       50.70          49.32%   \n",
       "3                   366.12                272.9       48.39          51.61%   \n",
       "4                   457.46                555.9       37.93          62.07%   \n",
       "\n",
       "   Production Budget  Oscars Nominated  Oscars Won  \n",
       "0                 30                 3           0  \n",
       "1                 45                 1           0  \n",
       "2                 90                 1           0  \n",
       "3                115                 3           1  \n",
       "4                 94                 4           1  "
      ]
     },
     "execution_count": 17,
     "metadata": {},
     "output_type": "execute_result"
    }
   ],
   "source": [
    "filtered_pixar.head()"
   ]
  },
  {
   "cell_type": "code",
   "execution_count": 18,
   "metadata": {
    "collapsed": true
   },
   "outputs": [],
   "source": [
    "pixar_movies.set_index('Movie', inplace = True)"
   ]
  },
  {
   "cell_type": "code",
   "execution_count": 19,
   "metadata": {
    "collapsed": true
   },
   "outputs": [],
   "source": [
    "filtered_pixar.set_index('Movie', inplace = True)"
   ]
  },
  {
   "cell_type": "code",
   "execution_count": 21,
   "metadata": {
    "collapsed": false
   },
   "outputs": [],
   "source": [
    "critics_reviews = pixar_movies[['RT Score', 'IMDB Score', 'Metacritic Score']]"
   ]
  },
  {
   "cell_type": "code",
   "execution_count": 22,
   "metadata": {
    "collapsed": false
   },
   "outputs": [
    {
     "data": {
      "text/html": [
       "<div style=\"max-height:1000px;max-width:1500px;overflow:auto;\">\n",
       "<table border=\"1\" class=\"dataframe\">\n",
       "  <thead>\n",
       "    <tr style=\"text-align: right;\">\n",
       "      <th></th>\n",
       "      <th>RT Score</th>\n",
       "      <th>IMDB Score</th>\n",
       "      <th>Metacritic Score</th>\n",
       "    </tr>\n",
       "    <tr>\n",
       "      <th>Movie</th>\n",
       "      <th></th>\n",
       "      <th></th>\n",
       "      <th></th>\n",
       "    </tr>\n",
       "  </thead>\n",
       "  <tbody>\n",
       "    <tr>\n",
       "      <th>Toy Story</th>\n",
       "      <td> 100</td>\n",
       "      <td> 83</td>\n",
       "      <td> 92</td>\n",
       "    </tr>\n",
       "    <tr>\n",
       "      <th>A Bug's Life</th>\n",
       "      <td>  92</td>\n",
       "      <td> 72</td>\n",
       "      <td> 77</td>\n",
       "    </tr>\n",
       "    <tr>\n",
       "      <th>Toy Story 2</th>\n",
       "      <td> 100</td>\n",
       "      <td> 79</td>\n",
       "      <td> 88</td>\n",
       "    </tr>\n",
       "    <tr>\n",
       "      <th>Monsters, Inc.</th>\n",
       "      <td>  96</td>\n",
       "      <td> 81</td>\n",
       "      <td> 78</td>\n",
       "    </tr>\n",
       "    <tr>\n",
       "      <th>Finding Nemo</th>\n",
       "      <td>  99</td>\n",
       "      <td> 82</td>\n",
       "      <td> 90</td>\n",
       "    </tr>\n",
       "  </tbody>\n",
       "</table>\n",
       "</div>"
      ],
      "text/plain": [
       "                RT Score  IMDB Score  Metacritic Score\n",
       "Movie                                                 \n",
       "Toy Story            100          83                92\n",
       "A Bug's Life          92          72                77\n",
       "Toy Story 2          100          79                88\n",
       "Monsters, Inc.        96          81                78\n",
       "Finding Nemo          99          82                90"
      ]
     },
     "execution_count": 22,
     "metadata": {},
     "output_type": "execute_result"
    }
   ],
   "source": [
    "critics_reviews.head()"
   ]
  },
  {
   "cell_type": "code",
   "execution_count": 27,
   "metadata": {
    "collapsed": false
   },
   "outputs": [
    {
     "data": {
      "image/png": "[encoded data removed]",
      "text/plain": [
       "<matplotlib.figure.Figure at 0x7f6632239c50>"
      ]
     },
     "metadata": {},
     "output_type": "display_data"
    }
   ],
   "source": [
    "critics_reviews.plot(figsize = (10,6))\n",
    "plt.show()"
   ]
  },
  {
   "cell_type": "code",
   "execution_count": 28,
   "metadata": {
    "collapsed": false
   },
   "outputs": [
    {
     "data": {
      "image/png": "[encoded data removed]",
      "text/plain": [
       "<matplotlib.figure.Figure at 0x7f6631d71ba8>"
      ]
     },
     "metadata": {},
     "output_type": "display_data"
    }
   ],
   "source": [
    "critics_reviews.plot(figsize = (10,6), kind = 'box')\n",
    "plt.show()"
   ]
  },
  {
   "cell_type": "code",
   "execution_count": 34,
   "metadata": {
    "collapsed": false
   },
   "outputs": [],
   "source": [
    "revenue_proportions = filtered_pixar[['Domestic %', \"International %\"]]"
   ]
  },
  {
   "cell_type": "code",
   "execution_count": 36,
   "metadata": {
    "collapsed": false
   },
   "outputs": [
    {
     "data": {
      "image/png": "[encoded data removed]",
      "text/plain": [
       "<matplotlib.figure.Figure at 0x7f6631d60be0>"
      ]
     },
     "metadata": {},
     "output_type": "display_data"
    }
   ],
   "source": [
    "revenue_proportions.plot(kind = 'bar', stacked = True)\n",
    "plt.show()"
   ]
  },
  {
   "cell_type": "code",
   "execution_count": null,
   "metadata": {
    "collapsed": true
   },
   "outputs": [],
   "source": []
  }
 ],
 "metadata": {
  "kernelspec": {
   "display_name": "Python 3",
   "language": "python",
   "name": "python3"
  },
  "language_info": {
   "codemirror_mode": {
    "name": "ipython",
    "version": 3
   },
   "file_extension": ".py",
   "mimetype": "text/x-python",
   "name": "python",
   "nbconvert_exporter": "python",
   "pygments_lexer": "ipython3",
   "version": "3.4.3"
  }
 },
 "nbformat": 4,
 "nbformat_minor": 0
}
